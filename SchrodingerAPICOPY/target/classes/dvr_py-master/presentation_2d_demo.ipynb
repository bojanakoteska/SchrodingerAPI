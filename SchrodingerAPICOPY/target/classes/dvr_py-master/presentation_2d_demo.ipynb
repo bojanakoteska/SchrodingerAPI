{
 "cells": [
  {
   "cell_type": "code",
   "execution_count": 1,
   "metadata": {
    "collapsed": true
   },
   "outputs": [],
   "source": [
    "import dvr_1d\n",
    "import dvr_2d\n",
    "import dvr_3d\n",
    "%matplotlib inline"
   ]
  },
  {
   "cell_type": "markdown",
   "metadata": {},
   "source": [
    "# 2-D Sinc Basis"
   ]
  },
  {
   "cell_type": "code",
   "execution_count": 2,
   "metadata": {
    "collapsed": false
   },
   "outputs": [
    {
     "name": "stdout",
     "output_type": "stream",
     "text": [
      "Testing 2-D DVR with an SHO potential\n",
      "The first 5 energies are:\n",
      "[ 1.00000000004332  2.00000000111529  2.00000000111529  3.00000000218725\n",
      "  3.00000002647711]\n",
      "\n"
     ]
    }
   ],
   "source": [
    "d1d = dvr_1d.SincDVR(npts = 30, L=10)\n",
    "d2d = dvr_2d.DVR(dvr1d=d1d)\n",
    "E, U = d2d.sho_test(num_eigs=5, precision=14)"
   ]
  },
  {
   "cell_type": "markdown",
   "metadata": {},
   "source": [
    "# 2-D Hermite Basis"
   ]
  },
  {
   "cell_type": "markdown",
   "metadata": {},
   "source": [
    "We only need a few basis functions (i.e. a few points) to get perfect eigenvalues."
   ]
  },
  {
   "cell_type": "code",
   "execution_count": 4,
   "metadata": {
    "collapsed": false
   },
   "outputs": [
    {
     "name": "stdout",
     "output_type": "stream",
     "text": [
      "Testing 2-D DVR with an SHO potential\n",
      "The first 5 energies are:\n",
      "[ 1.                2.                2.00000000000001  3.\n",
      "  3.00000000000001]\n",
      "\n"
     ]
    }
   ],
   "source": [
    "d1d = dvr_1d.HermiteDVR(npts=5)\n",
    "d2d = dvr_2d.DVR(dvr1d=d1d)\n",
    "E, U = d2d.sho_test(num_eigs=5, precision=14)"
   ]
  },
  {
   "cell_type": "markdown",
   "metadata": {},
   "source": [
    "# Plot Stuff"
   ]
  },
  {
   "cell_type": "code",
   "execution_count": 6,
   "metadata": {
    "collapsed": true
   },
   "outputs": [],
   "source": [
    "%matplotlib osx"
   ]
  },
  {
   "cell_type": "code",
   "execution_count": 8,
   "metadata": {
    "collapsed": false
   },
   "outputs": [
    {
     "name": "stdout",
     "output_type": "stream",
     "text": [
      "Testing 2-D DVR with an SHO potential\n",
      "The first 5 energies are:\n",
      "[ 1.            2.0000000011  2.0000000011  3.0000000022  3.0000000265]\n",
      "\n"
     ]
    }
   ],
   "source": [
    "d1d = dvr_1d.SincDVR(npts = 30, L=10)\n",
    "d2d = dvr_2d.DVR(dvr1d=d1d)\n",
    "E, U = d2d.sho_test(num_eigs=5, precision=10, uscale=3, doshow=True)"
   ]
  },
  {
   "cell_type": "code",
   "execution_count": null,
   "metadata": {
    "collapsed": true
   },
   "outputs": [],
   "source": []
  }
 ],
 "metadata": {
  "kernelspec": {
   "display_name": "Python 2",
   "language": "python",
   "name": "python2"
  },
  "language_info": {
   "codemirror_mode": {
    "name": "ipython",
    "version": 2
   },
   "file_extension": ".py",
   "mimetype": "text/x-python",
   "name": "python",
   "nbconvert_exporter": "python",
   "pygments_lexer": "ipython2",
   "version": "2.7.9"
  }
 },
 "nbformat": 4,
 "nbformat_minor": 0
}
